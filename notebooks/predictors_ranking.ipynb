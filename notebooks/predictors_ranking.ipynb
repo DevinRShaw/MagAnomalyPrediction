{
 "cells": [
  {
   "cell_type": "code",
   "execution_count": null,
   "metadata": {},
   "outputs": [],
   "source": [
    "# Data manipulation\n",
    "import pandas as pd\n",
    "import numpy as np\n",
    "\n",
    "# Statistical analysis\n",
    "from scipy.stats import pearsonr, spearmanr\n",
    "from sklearn.feature_selection import SelectKBest\n",
    "from sklearn.feature_selection import f_regression\n",
    "\n",
    "# Machine learning\n",
    "from sklearn.ensemble import RandomForestRegressor  # Or any other regressor for feature importance\n"
   ]
  }
 ],
 "metadata": {
  "language_info": {
   "name": "python"
  }
 },
 "nbformat": 4,
 "nbformat_minor": 2
}
